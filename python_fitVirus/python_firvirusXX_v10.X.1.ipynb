{
 "metadata": {
  "language_info": {
   "codemirror_mode": {
    "name": "ipython",
    "version": 3
   },
   "file_extension": ".py",
   "mimetype": "text/x-python",
   "name": "python",
   "nbconvert_exporter": "python",
   "pygments_lexer": "ipython3",
   "version": "3.7.4-final"
  },
  "orig_nbformat": 2,
  "kernelspec": {
   "name": "python3",
   "display_name": "Python 3.7.4 64-bit (conda)",
   "metadata": {
    "interpreter": {
     "hash": "b3ba2566441a7c06988d0923437866b63cedc61552a5af99d1f4fb67d367b25f"
    }
   }
  }
 },
 "nbformat": 4,
 "nbformat_minor": 2,
 "cells": [
  {
   "cell_type": "markdown",
   "metadata": {},
   "source": [
    "# Python fitVirusXX\n",
    "## Version 10.X.1\n",
    "## Date Updated: 01.25.2021\n",
    "## Author: Azmyin Md. Kamal"
   ]
  },
  {
   "source": [
    "# Version info\n",
    "* Calculates logisitc fit for week level data for first virus wave only\n",
    "* funcsXX.py must be present in the same directory as this notebook\n",
    "* This version natively supports coloring each 'phase length' similar to Dr. Batista's paper https://doi.org/10.1101/2020.02.16.20023606. To activate this feature head over to funcsXX.py and change plot_cumu_phases() the code for color commented as HARDCODED"
   ],
   "cell_type": "markdown",
   "metadata": {}
  },
  {
   "cell_type": "code",
   "execution_count": null,
   "metadata": {},
   "outputs": [],
   "source": [
    "# Load all modules, function definitions and important variable definitions\n",
    "from funcsXX import *\n",
    "\n",
    "df = pd.read_csv(\"Cases_All.csv\", header = 0)\n",
    "#df.head(10)"
   ]
  },
  {
   "cell_type": "code",
   "execution_count": null,
   "metadata": {},
   "outputs": [],
   "source": [
    "# Reproduce Figure 1, example of analyzing only one state\n",
    "state_names = ['Arizona'] # If you want to fit data for only one state\n",
    "\n",
    "# From the paper\n",
    "#state_names = ['Idaho', 'Ohio','Oregon', 'Texas', 'Nevada', 'Hawaii', 'Georgia', 'Florida', 'Alabama', 'Tennessee', 'North Carolina', 'Arizona', 'California', 'Mississippi', 'Iowa', 'Louisiana', 'South Carolina', 'Kentucky', 'New Mexico', 'Washington']"
   ]
  },
  {
   "cell_type": "code",
   "execution_count": null,
   "metadata": {},
   "outputs": [],
   "source": [
    "# Keep week array in memory\n",
    "week_array_file = df['week'].values\n",
    "#print(week_array_file)\n",
    "#print(np.shape(week_array_file))\n",
    "const_add = week_array_file[0] - 1\n",
    "print(const_add)"
   ]
  },
  {
   "cell_type": "code",
   "execution_count": null,
   "metadata": {
    "tags": []
   },
   "outputs": [],
   "source": [
    "loss_state = []\n",
    "for state_now in state_names:\n",
    "    # Main function call\n",
    "    b_wave1, timestamp_week, week_agg, y_pred, rr2_wave1 = master_fn(df = df,state_name = state_now, const_add = const_add, debug = False, plot_res = False)\n",
    "    \n",
    "    bb_fit1 = b_wave1\n",
    "    t_cumu = timestamp_week\n",
    "    y_act = week_agg\n",
    "    y_pred = logisticFun(t_cumu, bb_fit1) # Calculate Prevelance\n",
    "    #print(y_pred)\n",
    "\n",
    "    # Calculate single wave incidence\n",
    "    I_pred = fit_incidence_single(y_act,t_cumu,bb_fit1)\n",
    "    I_act_w1 = np.diff(y_act)\n",
    "    I_act_w1 = np.insert(I_act_w1, [0], [I_act_w1[0]])\n",
    "    max_w1 = max(I_pred)\n",
    "\n",
    "    # Find phase location\n",
    "    w1_loc_ls1 = fit_single_phase(bb_fit1, t_cumu, False)\n",
    "    # print(f\"Phase location before scaling --> {w1_loc_ls1}\\n\") # Debug\n",
    "    max_end = max(timestamp_week)\n",
    "\n",
    "    # Scale to right scale\n",
    "    w1_loc_ls = np.asarray(scale_to_dat_week(w1_loc_ls1, const_add, max_w1))\n",
    "    # print(f\"Phase location after scaling --> {w1_loc_ls}\\n\") # Debug\n",
    "\n",
    "    # Setup variables for plotting    \n",
    "    w2_loc_ls = [0,0,0,0,0]\n",
    "    t_span = week_array_file\n",
    "\n",
    "    # Plot cumulative phases\n",
    "    fontSIZE = 15\n",
    "    plt.rcParams.update({'font.size': fontSIZE})\n",
    "    plot_cumu_phases(const_add, w1_loc_ls1,bb_fit1, t_span, y_act, y_pred, I_act_w1, fontSIZE)"
   ]
  }
 ]
}